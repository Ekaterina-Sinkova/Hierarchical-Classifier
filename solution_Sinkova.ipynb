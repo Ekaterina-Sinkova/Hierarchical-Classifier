{
 "cells": [
  {
   "cell_type": "code",
   "execution_count": 2,
   "id": "0128a0c9",
   "metadata": {},
   "outputs": [
    {
     "name": "stderr",
     "output_type": "stream",
     "text": [
      "[nltk_data] Downloading package stopwords to\n",
      "[nltk_data]     C:\\Users\\Kate\\AppData\\Roaming\\nltk_data...\n",
      "[nltk_data]   Package stopwords is already up-to-date!\n"
     ]
    }
   ],
   "source": [
    "import pandas as pd\n",
    "import numpy as np\n",
    "import seaborn as sns\n",
    "\n",
    "import pyarrow\n",
    "\n",
    "import nltk\n",
    "nltk.download('stopwords')\n",
    "from nltk.corpus import stopwords\n",
    "from string import punctuation\n",
    "import pymorphy2"
   ]
  },
  {
   "cell_type": "markdown",
   "id": "ce2ddf41",
   "metadata": {},
   "source": [
    "### 1. Дерево категорий"
   ]
  },
  {
   "cell_type": "code",
   "execution_count": 3,
   "id": "fb7846d0",
   "metadata": {},
   "outputs": [
    {
     "name": "stdout",
     "output_type": "stream",
     "text": [
      "<class 'pandas.core.frame.DataFrame'>\n",
      "RangeIndex: 3370 entries, 0 to 3369\n",
      "Data columns (total 3 columns):\n",
      " #   Column     Non-Null Count  Dtype \n",
      "---  ------     --------------  ----- \n",
      " 0   id         3370 non-null   int64 \n",
      " 1   title      3370 non-null   object\n",
      " 2   parent_id  3370 non-null   int64 \n",
      "dtypes: int64(2), object(1)\n",
      "memory usage: 79.1+ KB\n"
     ]
    }
   ],
   "source": [
    "categories_tree = pd.read_csv('./categories_tree.csv')\n",
    "categories_tree.info()"
   ]
  },
  {
   "cell_type": "code",
   "execution_count": 4,
   "id": "22c22a4e",
   "metadata": {},
   "outputs": [
    {
     "data": {
      "text/html": [
       "<div>\n",
       "<style scoped>\n",
       "    .dataframe tbody tr th:only-of-type {\n",
       "        vertical-align: middle;\n",
       "    }\n",
       "\n",
       "    .dataframe tbody tr th {\n",
       "        vertical-align: top;\n",
       "    }\n",
       "\n",
       "    .dataframe thead th {\n",
       "        text-align: right;\n",
       "    }\n",
       "</style>\n",
       "<table border=\"1\" class=\"dataframe\">\n",
       "  <thead>\n",
       "    <tr style=\"text-align: right;\">\n",
       "      <th></th>\n",
       "      <th>id</th>\n",
       "      <th>title</th>\n",
       "      <th>parent_id</th>\n",
       "    </tr>\n",
       "  </thead>\n",
       "  <tbody>\n",
       "    <tr>\n",
       "      <th>0</th>\n",
       "      <td>1</td>\n",
       "      <td>Все категории</td>\n",
       "      <td>0</td>\n",
       "    </tr>\n",
       "    <tr>\n",
       "      <th>1</th>\n",
       "      <td>114</td>\n",
       "      <td>Урбеч</td>\n",
       "      <td>1913</td>\n",
       "    </tr>\n",
       "    <tr>\n",
       "      <th>2</th>\n",
       "      <td>115</td>\n",
       "      <td>Варенье и джемы</td>\n",
       "      <td>328</td>\n",
       "    </tr>\n",
       "    <tr>\n",
       "      <th>3</th>\n",
       "      <td>128</td>\n",
       "      <td>Сухие завтраки</td>\n",
       "      <td>2475</td>\n",
       "    </tr>\n",
       "    <tr>\n",
       "      <th>4</th>\n",
       "      <td>131</td>\n",
       "      <td>Масла</td>\n",
       "      <td>2475</td>\n",
       "    </tr>\n",
       "  </tbody>\n",
       "</table>\n",
       "</div>"
      ],
      "text/plain": [
       "    id            title  parent_id\n",
       "0    1    Все категории          0\n",
       "1  114            Урбеч       1913\n",
       "2  115  Варенье и джемы        328\n",
       "3  128   Сухие завтраки       2475\n",
       "4  131            Масла       2475"
      ]
     },
     "execution_count": 4,
     "metadata": {},
     "output_type": "execute_result"
    }
   ],
   "source": [
    "categories_tree.head()"
   ]
  },
  {
   "cell_type": "code",
   "execution_count": 5,
   "id": "bc830fd2",
   "metadata": {},
   "outputs": [
    {
     "data": {
      "text/plain": [
       "id           0\n",
       "title        0\n",
       "parent_id    0\n",
       "dtype: int64"
      ]
     },
     "execution_count": 5,
     "metadata": {},
     "output_type": "execute_result"
    }
   ],
   "source": [
    "categories_tree.isnull().sum()"
   ]
  },
  {
   "cell_type": "markdown",
   "id": "61f570ba",
   "metadata": {},
   "source": [
    "Функции для работы с деревом категорий"
   ]
  },
  {
   "cell_type": "code",
   "execution_count": 6,
   "id": "357e137e",
   "metadata": {},
   "outputs": [
    {
     "data": {
      "text/plain": [
       "(1, 10012, 10070, 11204, 12330)"
      ]
     },
     "execution_count": 6,
     "metadata": {},
     "output_type": "execute_result"
    }
   ],
   "source": [
    "def get_path(category: int) -> tuple:\n",
    "    \"\"\"Returns the path of the category in the categories_tree as a tuple.\"\"\"\n",
    "    path = ()\n",
    "    while True: \n",
    "        if category:\n",
    "            path = path + (int(categories_tree[categories_tree['id']==category]['id']),)\n",
    "            category = int(categories_tree[categories_tree['id']==category]['parent_id'])\n",
    "        else:\n",
    "            return path[::-1]\n",
    "#example       \n",
    "get_path(12330)"
   ]
  },
  {
   "cell_type": "code",
   "execution_count": 7,
   "id": "408ca7d8",
   "metadata": {},
   "outputs": [
    {
     "data": {
      "text/plain": [
       "'Все категории -> Красота -> Уход за телом -> Средства для душа и ванны -> Скрабы и пилинги'"
      ]
     },
     "execution_count": 7,
     "metadata": {},
     "output_type": "execute_result"
    }
   ],
   "source": [
    "def get_text_path(category: int) -> str:\n",
    "    \"\"\"Returns the path of the category in the categories_tree as a string.\"\"\"\n",
    "    path = []\n",
    "    while True: \n",
    "        if category:\n",
    "            path.append(('').join(categories_tree[categories_tree['id']==category]['title']))\n",
    "            category = int(categories_tree[categories_tree['id']==category]['parent_id'])\n",
    "        else:\n",
    "            return (' -> ').join(path[::-1])\n",
    "#example\n",
    "get_text_path(12330)"
   ]
  },
  {
   "cell_type": "markdown",
   "id": "acc523b8",
   "metadata": {},
   "source": [
    "### 2. Анализ тренировочного датасета"
   ]
  },
  {
   "cell_type": "code",
   "execution_count": 8,
   "id": "a43090db",
   "metadata": {},
   "outputs": [
    {
     "name": "stdout",
     "output_type": "stream",
     "text": [
      "<class 'pandas.core.frame.DataFrame'>\n",
      "RangeIndex: 283452 entries, 0 to 283451\n",
      "Data columns (total 7 columns):\n",
      " #   Column                      Non-Null Count   Dtype  \n",
      "---  ------                      --------------   -----  \n",
      " 0   id                          283452 non-null  int64  \n",
      " 1   title                       283452 non-null  object \n",
      " 2   short_description           133130 non-null  object \n",
      " 3   name_value_characteristics  50360 non-null   object \n",
      " 4   rating                      283452 non-null  float64\n",
      " 5   feedback_quantity           283452 non-null  int64  \n",
      " 6   category_id                 283452 non-null  int64  \n",
      "dtypes: float64(1), int64(3), object(3)\n",
      "memory usage: 15.1+ MB\n"
     ]
    }
   ],
   "source": [
    "train_df = pd.read_parquet('train.parquet', engine = 'pyarrow')\n",
    "\n",
    "train_df.info()"
   ]
  },
  {
   "cell_type": "code",
   "execution_count": 9,
   "id": "5a48bb1c",
   "metadata": {},
   "outputs": [
    {
     "data": {
      "text/html": [
       "<div>\n",
       "<style scoped>\n",
       "    .dataframe tbody tr th:only-of-type {\n",
       "        vertical-align: middle;\n",
       "    }\n",
       "\n",
       "    .dataframe tbody tr th {\n",
       "        vertical-align: top;\n",
       "    }\n",
       "\n",
       "    .dataframe thead th {\n",
       "        text-align: right;\n",
       "    }\n",
       "</style>\n",
       "<table border=\"1\" class=\"dataframe\">\n",
       "  <thead>\n",
       "    <tr style=\"text-align: right;\">\n",
       "      <th></th>\n",
       "      <th>id</th>\n",
       "      <th>title</th>\n",
       "      <th>short_description</th>\n",
       "      <th>name_value_characteristics</th>\n",
       "      <th>rating</th>\n",
       "      <th>feedback_quantity</th>\n",
       "      <th>category_id</th>\n",
       "    </tr>\n",
       "  </thead>\n",
       "  <tbody>\n",
       "    <tr>\n",
       "      <th>0</th>\n",
       "      <td>1267423</td>\n",
       "      <td>Muhle Manikure Песочные колпачки для педикюра ...</td>\n",
       "      <td>Muhle Manikure Колпачок песочный шлифовальный ...</td>\n",
       "      <td>None</td>\n",
       "      <td>0.000000</td>\n",
       "      <td>0</td>\n",
       "      <td>2693</td>\n",
       "    </tr>\n",
       "    <tr>\n",
       "      <th>1</th>\n",
       "      <td>128833</td>\n",
       "      <td>Sony Xperia L1 Защитное стекло 2,5D</td>\n",
       "      <td>None</td>\n",
       "      <td>None</td>\n",
       "      <td>4.666667</td>\n",
       "      <td>9</td>\n",
       "      <td>13408</td>\n",
       "    </tr>\n",
       "    <tr>\n",
       "      <th>2</th>\n",
       "      <td>569924</td>\n",
       "      <td>Конверт для денег Прекрасная роза, 16,5 х 8 см</td>\n",
       "      <td>Конверт для денег «Прекрасная роза», 16,5 × 8 см</td>\n",
       "      <td>None</td>\n",
       "      <td>5.000000</td>\n",
       "      <td>6</td>\n",
       "      <td>11790</td>\n",
       "    </tr>\n",
       "    <tr>\n",
       "      <th>3</th>\n",
       "      <td>1264824</td>\n",
       "      <td>Серьги</td>\n",
       "      <td>None</td>\n",
       "      <td>None</td>\n",
       "      <td>0.000000</td>\n",
       "      <td>0</td>\n",
       "      <td>14076</td>\n",
       "    </tr>\n",
       "    <tr>\n",
       "      <th>4</th>\n",
       "      <td>1339052</td>\n",
       "      <td>Наклейки на унитаз для туалета на крышку бачок...</td>\n",
       "      <td>Водостойкая, интересная наклейка на унитаз раз...</td>\n",
       "      <td>None</td>\n",
       "      <td>0.000000</td>\n",
       "      <td>0</td>\n",
       "      <td>12401</td>\n",
       "    </tr>\n",
       "  </tbody>\n",
       "</table>\n",
       "</div>"
      ],
      "text/plain": [
       "        id                                              title  \\\n",
       "0  1267423  Muhle Manikure Песочные колпачки для педикюра ...   \n",
       "1   128833                Sony Xperia L1 Защитное стекло 2,5D   \n",
       "2   569924     Конверт для денег Прекрасная роза, 16,5 х 8 см   \n",
       "3  1264824                                             Серьги   \n",
       "4  1339052  Наклейки на унитаз для туалета на крышку бачок...   \n",
       "\n",
       "                                   short_description  \\\n",
       "0  Muhle Manikure Колпачок песочный шлифовальный ...   \n",
       "1                                               None   \n",
       "2   Конверт для денег «Прекрасная роза», 16,5 × 8 см   \n",
       "3                                               None   \n",
       "4  Водостойкая, интересная наклейка на унитаз раз...   \n",
       "\n",
       "  name_value_characteristics    rating  feedback_quantity  category_id  \n",
       "0                       None  0.000000                  0         2693  \n",
       "1                       None  4.666667                  9        13408  \n",
       "2                       None  5.000000                  6        11790  \n",
       "3                       None  0.000000                  0        14076  \n",
       "4                       None  0.000000                  0        12401  "
      ]
     },
     "execution_count": 9,
     "metadata": {},
     "output_type": "execute_result"
    }
   ],
   "source": [
    "train_df.head()"
   ]
  },
  {
   "cell_type": "code",
   "execution_count": 10,
   "id": "37a814d3",
   "metadata": {},
   "outputs": [
    {
     "data": {
      "text/plain": [
       "id                                 0\n",
       "title                              0\n",
       "short_description             150322\n",
       "name_value_characteristics    233092\n",
       "rating                             0\n",
       "feedback_quantity                  0\n",
       "category_id                        0\n",
       "dtype: int64"
      ]
     },
     "execution_count": 10,
     "metadata": {},
     "output_type": "execute_result"
    }
   ],
   "source": [
    "train_df.isnull().sum()"
   ]
  },
  {
   "cell_type": "code",
   "execution_count": 11,
   "id": "c8028f6c",
   "metadata": {},
   "outputs": [],
   "source": [
    "train_df.fillna(value = ' ', inplace = True)"
   ]
  },
  {
   "cell_type": "code",
   "execution_count": 12,
   "id": "73944e26",
   "metadata": {},
   "outputs": [
    {
     "data": {
      "image/png": "[encoded data removed]",
      "text/plain": [
       "<Figure size 360x360 with 1 Axes>"
      ]
     },
     "metadata": {
      "needs_background": "light"
     },
     "output_type": "display_data"
    }
   ],
   "source": [
    "sns.displot(train_df['category_id']);"
   ]
  },
  {
   "cell_type": "markdown",
   "id": "f8d2b879",
   "metadata": {},
   "source": [
    "Как видно из распределения целевого признака - датасет сильно несбалансированный."
   ]
  },
  {
   "cell_type": "markdown",
   "id": "a746dc61",
   "metadata": {},
   "source": [
    "### 3. Подготовка текстовых данных"
   ]
  },
  {
   "cell_type": "markdown",
   "id": "7a210370",
   "metadata": {},
   "source": [
    "Лемматизацию тектовых признаков будем проводить с использованием библиотеки pymorphy2. "
   ]
  },
  {
   "cell_type": "code",
   "execution_count": 13,
   "id": "d2708550",
   "metadata": {},
   "outputs": [],
   "source": [
    "russian_stopwords = stopwords.words(\"russian\")\n",
    "blacklist = set(punctuation)\n",
    "\n",
    "morph = pymorphy2.MorphAnalyzer()"
   ]
  },
  {
   "cell_type": "markdown",
   "id": "686f6613",
   "metadata": {},
   "source": [
    "Для обработки будет использоваться следующая функция."
   ]
  },
  {
   "cell_type": "code",
   "execution_count": 14,
   "id": "c8a8872f",
   "metadata": {},
   "outputs": [],
   "source": [
    "def lemmatize(text: str) -> str:\n",
    "    \"\"\"returns a list, consisting of the lemmas from the input string\"\"\"\n",
    "    words = text.split() # разбиваем текст на слова\n",
    "    res = set() \n",
    "    for word in words:\n",
    "        word = ''.join(c for c in word if (c not in blacklist and c.isdigit()==False)) #удаляем знаки препинания и цифры\n",
    "        if len(word)>=3: #для всех слов, состоящих из трех и более букв, во множество ответов записываем нормальную форму слова\n",
    "            word = morph.parse(word)[0].normal_form\n",
    "            res.add(word)\n",
    "\n",
    "    return (' ').join(res) #возвращаем ответ в виде строки. \n",
    "#Ответ накапливался в форме множества, чтобы удалить повторяющиеся элементы"
   ]
  },
  {
   "cell_type": "markdown",
   "id": "477d20b5",
   "metadata": {},
   "source": [
    "Для обучения классификатора будут использоваться столбцы 'title' и 'short description'. Объединим эти столбцы в один столбец 'corpus'.\n",
    "\n",
    "Анализ ошибок классификации на тренировочной выборке показал, что в текстовых описаниях товаров встречаются слова, разделенные дефисами и слэшами, которые из-за этого неправильно обрабатываются функцией lemmatize. Заменим эти символы на пробелы.  "
   ]
  },
  {
   "cell_type": "code",
   "execution_count": 15,
   "id": "4474813e",
   "metadata": {},
   "outputs": [],
   "source": [
    "train_df['corpus'] = train_df['title'] + ' ' + train_df['short_description']\n",
    "train_df['corpus'] = train_df['corpus'].str.replace('-', ' ')\n",
    "train_df['corpus'] = train_df['corpus'].str.replace('/', ' ')"
   ]
  },
  {
   "cell_type": "code",
   "execution_count": 16,
   "id": "986679a9",
   "metadata": {},
   "outputs": [
    {
     "name": "stdout",
     "output_type": "stream",
     "text": [
      "CPU times: total: 7min 31s\n",
      "Wall time: 7min 32s\n"
     ]
    }
   ],
   "source": [
    "%%time\n",
    "train_df['corpus'] = train_df['corpus'].apply(lemmatize)"
   ]
  },
  {
   "cell_type": "code",
   "execution_count": 18,
   "id": "1bc54dae",
   "metadata": {},
   "outputs": [],
   "source": [
    "pd.set_option('display.max_colwidth',100)"
   ]
  },
  {
   "cell_type": "markdown",
   "id": "3e02b6d6",
   "metadata": {},
   "source": [
    "Посмотрим на обработаный текст"
   ]
  },
  {
   "cell_type": "code",
   "execution_count": 19,
   "id": "b9821b04",
   "metadata": {},
   "outputs": [
    {
     "data": {
      "text/plain": [
       "124256                                                        для солнце плёнка солнцезащитный тонировка окно\n",
       "170098                                                                                              фоторамка\n",
       "250658                    для зубной принадлежность крышка футляр пастыкосметикиаксессуар стакан ванная щётка\n",
       "166644                                                    материал микки принтом хлопок футболка женский маус\n",
       "56694                                                   для подарок дизайн подарочный новогодний размер пакет\n",
       "133359                                       для кожа ключ органайзер корзина искуственный хранение аксессуар\n",
       "263210                                                                                    магнитный держатель\n",
       "39736                                                                                   детский принтом носка\n",
       "279844             ткань работа костюмный цвет бабочка ручной галстук классический классика однотонный чёрный\n",
       "177149    впечатляющий для ultimate неповторимый оттенок век выразительный позволить создавать тёплый высо...\n",
       "Name: corpus, dtype: object"
      ]
     },
     "execution_count": 19,
     "metadata": {},
     "output_type": "execute_result"
    }
   ],
   "source": [
    "train_df['corpus'].sample(10)"
   ]
  },
  {
   "cell_type": "code",
   "execution_count": 20,
   "id": "f2d06e13",
   "metadata": {},
   "outputs": [],
   "source": [
    "X = train_df['corpus'] #матрица признаков\n",
    "y = train_df['category_id'] # целевой вектор"
   ]
  },
  {
   "cell_type": "markdown",
   "id": "cab4c668",
   "metadata": {},
   "source": [
    "### 4. Обучение модели"
   ]
  },
  {
   "cell_type": "code",
   "execution_count": 21,
   "id": "1754c637",
   "metadata": {},
   "outputs": [],
   "source": [
    "from sklearn.model_selection import StratifiedKFold\n",
    "from sklearn.model_selection import GridSearchCV\n",
    "from sklearn.pipeline import Pipeline\n",
    "from sklearn.feature_extraction.text import TfidfVectorizer\n",
    "from sklearn.naive_bayes import ComplementNB\n",
    "from sklearn.svm import LinearSVC"
   ]
  },
  {
   "cell_type": "markdown",
   "id": "f70ab337",
   "metadata": {},
   "source": [
    "В качестве baseline, для решения задачи мультиклассовой классификации данных по текстовым признакам будем использовать метод Комплементарного Наивного Байеса (модифицированный Наивный Байес, в котором учитываются веса классов) над мешком слов.\n",
    "Модель обучается на частотных векторах слов, полученных с помощью TfidfVectorizer. Применяем стратифицированную кросс валидацию т.к. целевой признак имеет несбалансированное распределение"
   ]
  },
  {
   "cell_type": "markdown",
   "id": "38cac6b7",
   "metadata": {},
   "source": [
    "Иерархический F1-score будем считать с помощью следующих функций:"
   ]
  },
  {
   "cell_type": "code",
   "execution_count": null,
   "id": "cdd61d89",
   "metadata": {},
   "outputs": [],
   "source": [
    "def intersect_paths(path_true, path_pred) -> int:\n",
    "    \"\"\"returns amount of equal elements in the paths of the predicted and true target values\"\"\"\n",
    "    _auxset = set(path_true)\n",
    "    intersection = [x for x in path_pred if x in _auxset]\n",
    "    return len(intersection)\n",
    "\n",
    "\n",
    "def calculate_hF(true_paths: list, pred_paths: list) -> float:\n",
    "    \"\"\"return the hF1 score for the paths of the predicted and true target values\"\"\"\n",
    "    sum_P, sum_T, sum_PT = 0,0,0\n",
    "    \n",
    "    for i in range(len(true_paths)):\n",
    "        sum_T+=len(true_paths[i])\n",
    "        sum_P+=len(pred_paths[i])\n",
    "        sum_PT += intersect_paths(true_paths[i], pred_paths[i])\n",
    "        hP, hR = sum_PT / sum_P, sum_PT / sum_T\n",
    "        \n",
    "    return 2*hP*hR/(hP+hR)"
   ]
  },
  {
   "cell_type": "markdown",
   "id": "f2e6e62d",
   "metadata": {},
   "source": [
    "Baseline. Stratified k-Fold Cross Validation for Naive Bayes "
   ]
  },
  {
   "cell_type": "code",
   "execution_count": 23,
   "id": "5559ef4a",
   "metadata": {},
   "outputs": [],
   "source": [
    "skf = StratifiedKFold(n_splits=5, shuffle=True, random_state=1)\n",
    "\n",
    "text_clf = Pipeline([('tfidf', TfidfVectorizer(max_features= 10000, ngram_range = (1,1), stop_words = russian_stopwords, analyzer = 'word')), \n",
    "                    ('clf', ComplementNB())])"
   ]
  },
  {
   "cell_type": "code",
   "execution_count": 25,
   "id": "c4cabc25",
   "metadata": {},
   "outputs": [
    {
     "name": "stderr",
     "output_type": "stream",
     "text": [
      "c:\\users\\kate\\appdata\\local\\programs\\python\\python38\\lib\\site-packages\\sklearn\\model_selection\\_split.py:676: UserWarning: The least populated class in y has only 2 members, which is less than n_splits=5.\n",
      "  warnings.warn(\n"
     ]
    },
    {
     "name": "stdout",
     "output_type": "stream",
     "text": [
      "CPU times: total: 40.8 s\n",
      "Wall time: 41.3 s\n"
     ]
    }
   ],
   "source": [
    "%%time\n",
    "for train_index, test_index in skf.split(X, y):\n",
    "    X_train, X_test = X[train_index], X[test_index]\n",
    "    y_train, y_test = y[train_index], y[test_index]\n",
    "        \n",
    "    text_clf.fit(X_train, y_train.values)"
   ]
  },
  {
   "cell_type": "code",
   "execution_count": 26,
   "id": "1d04f03d",
   "metadata": {},
   "outputs": [
    {
     "name": "stdout",
     "output_type": "stream",
     "text": [
      "Baseline hF1 =  0.8327339044780493\n",
      "CPU times: total: 30min 56s\n",
      "Wall time: 31min 2s\n"
     ]
    }
   ],
   "source": [
    "%%time\n",
    "y_pred = text_clf.predict(X)\n",
    "        \n",
    "true_paths = [get_path(y) for y in y.values]\n",
    "pred_paths = [get_path(y) for y in y_pred]\n",
    "hF1 = calculate_hF(true_paths, pred_paths)        \n",
    "print('Baseline hF1 = ', hF1)"
   ]
  },
  {
   "cell_type": "markdown",
   "id": "b54ec19e",
   "metadata": {},
   "source": [
    "Модель Linear Support Vector Classification "
   ]
  },
  {
   "cell_type": "code",
   "execution_count": 28,
   "id": "a914d3b1",
   "metadata": {},
   "outputs": [],
   "source": [
    "text_clf2 = Pipeline([('tfidf', TfidfVectorizer(max_features= 10000, ngram_range = (1,1), stop_words = russian_stopwords, analyzer = 'word')), \n",
    "                    ('clf', LinearSVC(random_state = 1))])"
   ]
  },
  {
   "cell_type": "code",
   "execution_count": 30,
   "id": "1f6c983a",
   "metadata": {},
   "outputs": [
    {
     "name": "stderr",
     "output_type": "stream",
     "text": [
      "c:\\users\\kate\\appdata\\local\\programs\\python\\python38\\lib\\site-packages\\sklearn\\model_selection\\_split.py:676: UserWarning: The least populated class in y has only 2 members, which is less than n_splits=5.\n",
      "  warnings.warn(\n"
     ]
    },
    {
     "name": "stdout",
     "output_type": "stream",
     "text": [
      "CPU times: total: 34min 12s\n",
      "Wall time: 34min 19s\n"
     ]
    }
   ],
   "source": [
    "%%time\n",
    "for train_index, test_index in skf.split(X, y):\n",
    "    X_train, X_test = X[train_index], X[test_index]\n",
    "    y_train, y_test = y[train_index], y[test_index]\n",
    "        \n",
    "    text_clf2.fit(X_train, y_train.values)"
   ]
  },
  {
   "cell_type": "code",
   "execution_count": 31,
   "id": "9e78b487",
   "metadata": {},
   "outputs": [
    {
     "name": "stdout",
     "output_type": "stream",
     "text": [
      "LinearSVC hF1 =  0.9539726320244458\n",
      "CPU times: total: 30min 58s\n",
      "Wall time: 41min 5s\n"
     ]
    }
   ],
   "source": [
    "%%time\n",
    "y_pred = text_clf2.predict(X)\n",
    "        \n",
    "true_paths = [get_path(y) for y in y.values]\n",
    "pred_paths = [get_path(y) for y in y_pred]\n",
    "        \n",
    "hF1 = calculate_hF(true_paths, pred_paths)\n",
    "print('LinearSVC hF1 = ', hF1)"
   ]
  },
  {
   "cell_type": "markdown",
   "id": "142a458d",
   "metadata": {},
   "source": [
    "Посмотрим, на каких элементах происходит ошибка классификации"
   ]
  },
  {
   "cell_type": "code",
   "execution_count": 143,
   "id": "3ac9d8c4",
   "metadata": {},
   "outputs": [
    {
     "data": {
      "text/html": [
       "<div>\n",
       "<style scoped>\n",
       "    .dataframe tbody tr th:only-of-type {\n",
       "        vertical-align: middle;\n",
       "    }\n",
       "\n",
       "    .dataframe tbody tr th {\n",
       "        vertical-align: top;\n",
       "    }\n",
       "\n",
       "    .dataframe thead th {\n",
       "        text-align: right;\n",
       "    }\n",
       "</style>\n",
       "<table border=\"1\" class=\"dataframe\">\n",
       "  <thead>\n",
       "    <tr style=\"text-align: right;\">\n",
       "      <th></th>\n",
       "      <th>description</th>\n",
       "      <th>y_true</th>\n",
       "      <th>y_pred</th>\n",
       "    </tr>\n",
       "  </thead>\n",
       "  <tbody>\n",
       "    <tr>\n",
       "      <th>0</th>\n",
       "      <td>Muhle Manikure Песочные колпачки для педикюра 1015 PW Средний (150 грит) (упаковка 10 шт)</td>\n",
       "      <td>2693</td>\n",
       "      <td>2693</td>\n",
       "    </tr>\n",
       "    <tr>\n",
       "      <th>1</th>\n",
       "      <td>Sony Xperia L1 Защитное стекло 2,5D</td>\n",
       "      <td>13408</td>\n",
       "      <td>13408</td>\n",
       "    </tr>\n",
       "    <tr>\n",
       "      <th>2</th>\n",
       "      <td>Конверт для денег Прекрасная роза, 16,5 х 8 см</td>\n",
       "      <td>11790</td>\n",
       "      <td>11790</td>\n",
       "    </tr>\n",
       "    <tr>\n",
       "      <th>3</th>\n",
       "      <td>Серьги</td>\n",
       "      <td>14076</td>\n",
       "      <td>13061</td>\n",
       "    </tr>\n",
       "    <tr>\n",
       "      <th>4</th>\n",
       "      <td>Наклейки на унитаз для туалета на крышку бачок на дверь ванную на стену мебель зеркало</td>\n",
       "      <td>12401</td>\n",
       "      <td>12401</td>\n",
       "    </tr>\n",
       "  </tbody>\n",
       "</table>\n",
       "</div>"
      ],
      "text/plain": [
       "                                                                                 description  \\\n",
       "0  Muhle Manikure Песочные колпачки для педикюра 1015 PW Средний (150 грит) (упаковка 10 шт)   \n",
       "1                                                        Sony Xperia L1 Защитное стекло 2,5D   \n",
       "2                                             Конверт для денег Прекрасная роза, 16,5 х 8 см   \n",
       "3                                                                                     Серьги   \n",
       "4     Наклейки на унитаз для туалета на крышку бачок на дверь ванную на стену мебель зеркало   \n",
       "\n",
       "   y_true  y_pred  \n",
       "0    2693    2693  \n",
       "1   13408   13408  \n",
       "2   11790   11790  \n",
       "3   14076   13061  \n",
       "4   12401   12401  "
      ]
     },
     "execution_count": 143,
     "metadata": {},
     "output_type": "execute_result"
    }
   ],
   "source": [
    "df = pd.DataFrame()\n",
    "df['description'] = train_df['title']\n",
    "df['y_true'] = train_df['category_id']\n",
    "df['y_pred'] = y_pred\n",
    "df.head()"
   ]
  },
  {
   "cell_type": "code",
   "execution_count": 144,
   "id": "50fc30f4",
   "metadata": {},
   "outputs": [],
   "source": [
    "df = df[df['y_true']!=df['y_pred']]"
   ]
  },
  {
   "cell_type": "code",
   "execution_count": 145,
   "id": "b89a5581",
   "metadata": {},
   "outputs": [],
   "source": [
    "def misclassification(df):\n",
    "    df = df.sample(5)\n",
    "    for i in range(5):\n",
    "        print('Описание: ', df['description'].values[i])\n",
    "        print('Путь: ', get_text_path(int(df['y_true'].values[i])))\n",
    "        print('Предсказание: ', get_text_path(df['y_pred'].values[i]))\n",
    "        print()"
   ]
  },
  {
   "cell_type": "code",
   "execution_count": 146,
   "id": "e2f426d4",
   "metadata": {},
   "outputs": [
    {
     "name": "stdout",
     "output_type": "stream",
     "text": [
      "Описание:  Чокер со звездами\n",
      "Путь:  Все категории -> Аксессуары -> Аксессуары для девочек -> Бижутерные украшения -> Украшения на шею\n",
      "Предсказание:  Все категории -> Аксессуары -> Женские аксессуары -> Бижутерные украшения -> Украшения на шею -> Чокеры\n",
      "\n",
      "Описание:  Комплект женский с брюками LILIANS\n",
      "Путь:  Все категории -> Одежда -> Женская одежда -> Домашняя одежда -> Пижамы\n",
      "Предсказание:  Все категории -> Одежда -> Женская одежда -> Домашняя одежда -> Комплекты\n",
      "\n",
      "Описание:  Халайтеры+нежные румяна\n",
      "Путь:  Все категории -> Красота -> Макияж -> Лицо -> Палетки для контуринга\n",
      "Предсказание:  Все категории -> Красота -> Макияж -> Лицо -> Румяна и бронзеры\n",
      "\n",
      "Описание:  Бантик\n",
      "Путь:  Все категории -> Аксессуары -> Женские аксессуары -> Аксессуары для волос -> Резинки\n",
      "Предсказание:  Все категории -> Аксессуары -> Аксессуары для девочек -> Аксессуары для волос -> Резинки\n",
      "\n",
      "Описание:  Серьга-обманка кольцо  с крестом унисекс / серьги клипсы\n",
      "Путь:  Все категории -> Аксессуары -> Мужские аксессуары -> Бижутерные украшения -> Серьги\n",
      "Предсказание:  Все категории -> Аксессуары -> Женские аксессуары -> Бижутерные украшения -> Серьги\n",
      "\n"
     ]
    }
   ],
   "source": [
    "misclassification(df)"
   ]
  },
  {
   "cell_type": "markdown",
   "id": "760f2cb7",
   "metadata": {},
   "source": [
    "Чаще всего ошибки классификации возникают из-за категорий с одинаковыми названиями в ветках женских/мужских/детских товаров, когда по текстовому описанию невозможно правильно отнести товар к нужной ветке. \n",
    "\n",
    "Например\n",
    "\n",
    "Описание:  Чокер со звездами\n",
    "\n",
    "Путь:  Все категории -> Аксессуары -> Аксессуары для девочек -> Бижутерные украшения -> Украшения на шею\n",
    "\n",
    "Предсказание:  Все категории -> Аксессуары -> Женские аксессуары -> Бижутерные украшения -> Украшения на шею -> Чокеры"
   ]
  },
  {
   "cell_type": "markdown",
   "id": "4fe5f991",
   "metadata": {},
   "source": [
    "GridSearchCV"
   ]
  },
  {
   "cell_type": "markdown",
   "id": "bb4d0bee",
   "metadata": {},
   "source": [
    "Лучшие параметры выбранной модели можно найти с помощью поиска по сетке параметров с кросс-валидацией. Из-за ограниченности вычислительных ресурсов - оптимизация не проводилась."
   ]
  },
  {
   "cell_type": "code",
   "execution_count": null,
   "id": "600f4227",
   "metadata": {},
   "outputs": [],
   "source": [
    "parameters = [{\n",
    "    'tfidf__max_df': (0.5, 0.75, 1.0),\n",
    "    'tfidf__max_features': (10000, 30000),\n",
    "    'tfidf__ngram_range': ((1, 1), (1, 2)),  \n",
    "    'clf__C': (1, 10, 100)\n",
    "}]"
   ]
  },
  {
   "cell_type": "code",
   "execution_count": null,
   "id": "d1c6e52c",
   "metadata": {},
   "outputs": [],
   "source": [
    "grid_search = GridSearchCV(text_clf1, parameters, cv=skf.split(X,y))\n",
    "grid_search.fit(X, y)"
   ]
  },
  {
   "cell_type": "code",
   "execution_count": 100,
   "id": "eb526f03",
   "metadata": {},
   "outputs": [],
   "source": [
    "best_text_clf = grid_search.best_estimator_"
   ]
  },
  {
   "cell_type": "markdown",
   "id": "dd5af2dc",
   "metadata": {},
   "source": [
    "### 5. Загрузка тестовой выборки"
   ]
  },
  {
   "cell_type": "code",
   "execution_count": 32,
   "id": "901197b6",
   "metadata": {},
   "outputs": [
    {
     "name": "stdout",
     "output_type": "stream",
     "text": [
      "<class 'pandas.core.frame.DataFrame'>\n",
      "RangeIndex: 70864 entries, 0 to 70863\n",
      "Data columns (total 6 columns):\n",
      " #   Column                      Non-Null Count  Dtype  \n",
      "---  ------                      --------------  -----  \n",
      " 0   id                          70864 non-null  int64  \n",
      " 1   title                       70864 non-null  object \n",
      " 2   short_description           33346 non-null  object \n",
      " 3   name_value_characteristics  12576 non-null  object \n",
      " 4   rating                      70864 non-null  float64\n",
      " 5   feedback_quantity           70864 non-null  int64  \n",
      "dtypes: float64(1), int64(2), object(3)\n",
      "memory usage: 3.2+ MB\n"
     ]
    }
   ],
   "source": [
    "test_df = pd.read_parquet('test.parquet', engine = 'pyarrow')\n",
    "test_df.info()"
   ]
  },
  {
   "cell_type": "code",
   "execution_count": 33,
   "id": "324adb86",
   "metadata": {},
   "outputs": [
    {
     "data": {
      "text/plain": [
       "id                                0\n",
       "title                             0\n",
       "short_description             37518\n",
       "name_value_characteristics    58288\n",
       "rating                            0\n",
       "feedback_quantity                 0\n",
       "dtype: int64"
      ]
     },
     "execution_count": 33,
     "metadata": {},
     "output_type": "execute_result"
    }
   ],
   "source": [
    "test_df.isnull().sum()"
   ]
  },
  {
   "cell_type": "code",
   "execution_count": 34,
   "id": "66adebd1",
   "metadata": {},
   "outputs": [],
   "source": [
    "test_df.fillna(value = ' ', inplace = True)\n",
    "test_df['corpus'] = test_df['title'] + ' ' + test_df['short_description']\n",
    "test_df['corpus'] = test_df['corpus'].str.replace('-', ' ')\n",
    "test_df['corpus'] = test_df['corpus'].str.replace('/', ' ')"
   ]
  },
  {
   "cell_type": "code",
   "execution_count": 35,
   "id": "5c1c0997",
   "metadata": {},
   "outputs": [
    {
     "name": "stdout",
     "output_type": "stream",
     "text": [
      "CPU times: total: 1min 52s\n",
      "Wall time: 1min 53s\n"
     ]
    }
   ],
   "source": [
    "%%time\n",
    "test_df['corpus'] = test_df['corpus'].apply(lemmatize)"
   ]
  },
  {
   "cell_type": "code",
   "execution_count": 36,
   "id": "4a37df31",
   "metadata": {},
   "outputs": [],
   "source": [
    "y_test_pred = text_clf2.predict(test_df['corpus'])\n",
    "test_df['category_id'] = y_test_pred"
   ]
  },
  {
   "cell_type": "code",
   "execution_count": 38,
   "id": "190e16b1",
   "metadata": {},
   "outputs": [
    {
     "data": {
      "text/html": [
       "<div>\n",
       "<style scoped>\n",
       "    .dataframe tbody tr th:only-of-type {\n",
       "        vertical-align: middle;\n",
       "    }\n",
       "\n",
       "    .dataframe tbody tr th {\n",
       "        vertical-align: top;\n",
       "    }\n",
       "\n",
       "    .dataframe thead th {\n",
       "        text-align: right;\n",
       "    }\n",
       "</style>\n",
       "<table border=\"1\" class=\"dataframe\">\n",
       "  <thead>\n",
       "    <tr style=\"text-align: right;\">\n",
       "      <th></th>\n",
       "      <th>id</th>\n",
       "      <th>title</th>\n",
       "      <th>short_description</th>\n",
       "      <th>name_value_characteristics</th>\n",
       "      <th>rating</th>\n",
       "      <th>feedback_quantity</th>\n",
       "      <th>corpus</th>\n",
       "      <th>category_id</th>\n",
       "    </tr>\n",
       "  </thead>\n",
       "  <tbody>\n",
       "    <tr>\n",
       "      <th>10227</th>\n",
       "      <td>454313</td>\n",
       "      <td>Защитное стекло премиум для Iphone 12 Pro Max/ Айфон 12 про макс</td>\n",
       "      <td></td>\n",
       "      <td></td>\n",
       "      <td>0.000000</td>\n",
       "      <td>0</td>\n",
       "      <td>премиум для max iphone макс защитный айфон про стекло pro</td>\n",
       "      <td>13408</td>\n",
       "    </tr>\n",
       "    <tr>\n",
       "      <th>23035</th>\n",
       "      <td>985603</td>\n",
       "      <td>Трусы женские Clever классические</td>\n",
       "      <td>Трусы женские Clever классические</td>\n",
       "      <td></td>\n",
       "      <td>0.000000</td>\n",
       "      <td>0</td>\n",
       "      <td>женский трус clever классический</td>\n",
       "      <td>14233</td>\n",
       "    </tr>\n",
       "    <tr>\n",
       "      <th>69627</th>\n",
       "      <td>1088820</td>\n",
       "      <td>Туника женская Блеск</td>\n",
       "      <td>Легкая и комфортная туника из хлопка с принтом.</td>\n",
       "      <td>Российский размер одежды:44|46|48|50|52|54|56|58|60|62|64|66</td>\n",
       "      <td>0.000000</td>\n",
       "      <td>0</td>\n",
       "      <td>комфортный блеск хлопок лёгкий принтом женский туника</td>\n",
       "      <td>12024</td>\n",
       "    </tr>\n",
       "    <tr>\n",
       "      <th>57999</th>\n",
       "      <td>1403473</td>\n",
       "      <td>Молд силиконовый \"Листья\"</td>\n",
       "      <td></td>\n",
       "      <td></td>\n",
       "      <td>0.000000</td>\n",
       "      <td>0</td>\n",
       "      <td>силиконовый лист молд</td>\n",
       "      <td>12841</td>\n",
       "    </tr>\n",
       "    <tr>\n",
       "      <th>51714</th>\n",
       "      <td>725081</td>\n",
       "      <td>DNC  Масло дикого манго для бровей и ресниц, 12 мл</td>\n",
       "      <td></td>\n",
       "      <td></td>\n",
       "      <td>0.000000</td>\n",
       "      <td>0</td>\n",
       "      <td>ресница для dnc бровь манго масло дикий</td>\n",
       "      <td>12558</td>\n",
       "    </tr>\n",
       "    <tr>\n",
       "      <th>59751</th>\n",
       "      <td>499718</td>\n",
       "      <td>Подставка для телефона компактная универсальная</td>\n",
       "      <td>Держатель-подставка для телефона</td>\n",
       "      <td></td>\n",
       "      <td>4.000000</td>\n",
       "      <td>2</td>\n",
       "      <td>для универсальный держатель подставка телефон компактный</td>\n",
       "      <td>14241</td>\n",
       "    </tr>\n",
       "    <tr>\n",
       "      <th>58218</th>\n",
       "      <td>270886</td>\n",
       "      <td>Защитная накладка на камеру для iPhone 11 Pro / 11 Pro Max, 10 цветов</td>\n",
       "      <td>Накладка защитит камеру вашего смартфона от царапин, потертостей и других повреждений при эксплу...</td>\n",
       "      <td></td>\n",
       "      <td>2.333333</td>\n",
       "      <td>3</td>\n",
       "      <td>накладка эксплуатация для другой max iphone цвет ваш смартфон царапина защитный защитить потёрто...</td>\n",
       "      <td>13408</td>\n",
       "    </tr>\n",
       "    <tr>\n",
       "      <th>7874</th>\n",
       "      <td>611790</td>\n",
       "      <td>Серьги женские прямоугольные</td>\n",
       "      <td>Серьги женские прямоугольные со стразами</td>\n",
       "      <td></td>\n",
       "      <td>5.000000</td>\n",
       "      <td>2</td>\n",
       "      <td>женский серьга страз прямоугольный</td>\n",
       "      <td>13061</td>\n",
       "    </tr>\n",
       "    <tr>\n",
       "      <th>46457</th>\n",
       "      <td>924175</td>\n",
       "      <td>Щипцы-ложка кухонные 25 см</td>\n",
       "      <td></td>\n",
       "      <td></td>\n",
       "      <td>4.571429</td>\n",
       "      <td>14</td>\n",
       "      <td>ложка кухонный щипец</td>\n",
       "      <td>14011</td>\n",
       "    </tr>\n",
       "    <tr>\n",
       "      <th>56540</th>\n",
       "      <td>1065082</td>\n",
       "      <td>Серьги - талисманы . Долголетие и защита (черепаха) цвет серебро</td>\n",
       "      <td>Защитные талисманы всегда с вами серьги. Помощники и защитники, талисманы оберегают от зла и при...</td>\n",
       "      <td></td>\n",
       "      <td>0.000000</td>\n",
       "      <td>0</td>\n",
       "      <td>серебро защита находиться защитник они долголетие серьга цвет помощник защитный оберегать принос...</td>\n",
       "      <td>11617</td>\n",
       "    </tr>\n",
       "  </tbody>\n",
       "</table>\n",
       "</div>"
      ],
      "text/plain": [
       "            id  \\\n",
       "10227   454313   \n",
       "23035   985603   \n",
       "69627  1088820   \n",
       "57999  1403473   \n",
       "51714   725081   \n",
       "59751   499718   \n",
       "58218   270886   \n",
       "7874    611790   \n",
       "46457   924175   \n",
       "56540  1065082   \n",
       "\n",
       "                                                                       title  \\\n",
       "10227       Защитное стекло премиум для Iphone 12 Pro Max/ Айфон 12 про макс   \n",
       "23035                                      Трусы женские Clever классические   \n",
       "69627                                                   Туника женская Блеск   \n",
       "57999                                              Молд силиконовый \"Листья\"   \n",
       "51714                     DNC  Масло дикого манго для бровей и ресниц, 12 мл   \n",
       "59751                        Подставка для телефона компактная универсальная   \n",
       "58218  Защитная накладка на камеру для iPhone 11 Pro / 11 Pro Max, 10 цветов   \n",
       "7874                                            Серьги женские прямоугольные   \n",
       "46457                                             Щипцы-ложка кухонные 25 см   \n",
       "56540       Серьги - талисманы . Долголетие и защита (черепаха) цвет серебро   \n",
       "\n",
       "                                                                                         short_description  \\\n",
       "10227                                                                                                        \n",
       "23035                                                                    Трусы женские Clever классические   \n",
       "69627                                                      Легкая и комфортная туника из хлопка с принтом.   \n",
       "57999                                                                                                        \n",
       "51714                                                                                                        \n",
       "59751                                                                     Держатель-подставка для телефона   \n",
       "58218  Накладка защитит камеру вашего смартфона от царапин, потертостей и других повреждений при эксплу...   \n",
       "7874                                                              Серьги женские прямоугольные со стразами   \n",
       "46457                                                                                                        \n",
       "56540  Защитные талисманы всегда с вами серьги. Помощники и защитники, талисманы оберегают от зла и при...   \n",
       "\n",
       "                                         name_value_characteristics    rating  \\\n",
       "10227                                                                0.000000   \n",
       "23035                                                                0.000000   \n",
       "69627  Российский размер одежды:44|46|48|50|52|54|56|58|60|62|64|66  0.000000   \n",
       "57999                                                                0.000000   \n",
       "51714                                                                0.000000   \n",
       "59751                                                                4.000000   \n",
       "58218                                                                2.333333   \n",
       "7874                                                                 5.000000   \n",
       "46457                                                                4.571429   \n",
       "56540                                                                0.000000   \n",
       "\n",
       "       feedback_quantity  \\\n",
       "10227                  0   \n",
       "23035                  0   \n",
       "69627                  0   \n",
       "57999                  0   \n",
       "51714                  0   \n",
       "59751                  2   \n",
       "58218                  3   \n",
       "7874                   2   \n",
       "46457                 14   \n",
       "56540                  0   \n",
       "\n",
       "                                                                                                    corpus  \\\n",
       "10227                                            премиум для max iphone макс защитный айфон про стекло pro   \n",
       "23035                                                                     женский трус clever классический   \n",
       "69627                                                комфортный блеск хлопок лёгкий принтом женский туника   \n",
       "57999                                                                                силиконовый лист молд   \n",
       "51714                                                              ресница для dnc бровь манго масло дикий   \n",
       "59751                                             для универсальный держатель подставка телефон компактный   \n",
       "58218  накладка эксплуатация для другой max iphone цвет ваш смартфон царапина защитный защитить потёрто...   \n",
       "7874                                                                    женский серьга страз прямоугольный   \n",
       "46457                                                                                 ложка кухонный щипец   \n",
       "56540  серебро защита находиться защитник они долголетие серьга цвет помощник защитный оберегать принос...   \n",
       "\n",
       "       category_id  \n",
       "10227        13408  \n",
       "23035        14233  \n",
       "69627        12024  \n",
       "57999        12841  \n",
       "51714        12558  \n",
       "59751        14241  \n",
       "58218        13408  \n",
       "7874         13061  \n",
       "46457        14011  \n",
       "56540        11617  "
      ]
     },
     "execution_count": 38,
     "metadata": {},
     "output_type": "execute_result"
    }
   ],
   "source": [
    "test_df.sample(10)"
   ]
  },
  {
   "cell_type": "markdown",
   "id": "9f162f70",
   "metadata": {},
   "source": [
    "Посмотрим на результаты с помощью следующей функции:"
   ]
  },
  {
   "cell_type": "code",
   "execution_count": 39,
   "id": "89014d6a",
   "metadata": {},
   "outputs": [],
   "source": [
    "def print_results():\n",
    "    df = test_df.sample(10)\n",
    "    for i in range(10):\n",
    "        print('Описание: ',df['title'].values[i])\n",
    "        print('Путь: ', get_text_path(df['category_id'].values[i]))\n",
    "        print()"
   ]
  },
  {
   "cell_type": "code",
   "execution_count": 46,
   "id": "ae0fab14",
   "metadata": {},
   "outputs": [
    {
     "name": "stdout",
     "output_type": "stream",
     "text": [
      "Описание:  Чехол накладка для Nokia 2\n",
      "Путь:  Все категории -> Электроника -> Смартфоны и телефоны -> Аксессуары и запчасти -> Чехлы\n",
      "\n",
      "Описание:  Пинетки интерлок для новорожденного (меланж)\n",
      "Путь:  Все категории -> Одежда -> Одежда для новорождённых -> Носки, пинетки\n",
      "\n",
      "Описание:  Женский рюкзак\n",
      "Путь:  Все категории -> Аксессуары -> Женские аксессуары -> Сумки и рюкзаки -> Рюкзаки\n",
      "\n",
      "Описание:  Аккумулятор Prestigio 4020\n",
      "Путь:  Все категории -> Электроника -> Смартфоны и телефоны -> Аксессуары и запчасти -> Аккумуляторы\n",
      "\n",
      "Описание:  Комплект для мальчика\n",
      "Путь:  Все категории -> Одежда -> Одежда для мальчиков -> Костюмы и пиджаки -> Комплекты\n",
      "\n",
      "Описание:  Женский топ, топ-бюстгальтер, топ повседневный, спортивный топ, базовый женский топ\n",
      "Путь:  Все категории -> Одежда -> Женская одежда -> Белье и купальники -> Бюстгальтеры\n",
      "\n",
      "Описание:  Куртка мужская LTB\n",
      "Путь:  Все категории -> Одежда -> Мужская одежда -> Верхняя одежда -> Куртки\n",
      "\n",
      "Описание:  Боди ТВОЕ\n",
      "Путь:  Все категории -> Одежда -> Женская одежда -> Белье и купальники -> Боди и корсеты\n",
      "\n",
      "Описание:  Платье намазное\n",
      "Путь:  Все категории -> Одежда -> Женская одежда -> Платья -> Платья повседневные\n",
      "\n",
      "Описание:  Красная нить браслет - оберег\n",
      "Путь:  Все категории -> Аксессуары -> Женские аксессуары -> Бижутерные украшения -> Браслеты\n",
      "\n"
     ]
    }
   ],
   "source": [
    "print_results()"
   ]
  },
  {
   "cell_type": "markdown",
   "id": "3900679f",
   "metadata": {},
   "source": [
    "На первый взгляд, все категории предсказаны правильно... =)"
   ]
  },
  {
   "cell_type": "markdown",
   "id": "c781196a",
   "metadata": {},
   "source": [
    "### 6. Вывод решения"
   ]
  },
  {
   "cell_type": "code",
   "execution_count": 42,
   "id": "3659afba",
   "metadata": {},
   "outputs": [
    {
     "data": {
      "text/html": [
       "<div>\n",
       "<style scoped>\n",
       "    .dataframe tbody tr th:only-of-type {\n",
       "        vertical-align: middle;\n",
       "    }\n",
       "\n",
       "    .dataframe tbody tr th {\n",
       "        vertical-align: top;\n",
       "    }\n",
       "\n",
       "    .dataframe thead th {\n",
       "        text-align: right;\n",
       "    }\n",
       "</style>\n",
       "<table border=\"1\" class=\"dataframe\">\n",
       "  <thead>\n",
       "    <tr style=\"text-align: right;\">\n",
       "      <th></th>\n",
       "      <th>predicted_category_id</th>\n",
       "    </tr>\n",
       "    <tr>\n",
       "      <th>id</th>\n",
       "      <th></th>\n",
       "    </tr>\n",
       "  </thead>\n",
       "  <tbody>\n",
       "    <tr>\n",
       "      <th>1070974</th>\n",
       "      <td>11574</td>\n",
       "    </tr>\n",
       "    <tr>\n",
       "      <th>450413</th>\n",
       "      <td>11878</td>\n",
       "    </tr>\n",
       "    <tr>\n",
       "      <th>126857</th>\n",
       "      <td>13299</td>\n",
       "    </tr>\n",
       "    <tr>\n",
       "      <th>1577569</th>\n",
       "      <td>13061</td>\n",
       "    </tr>\n",
       "    <tr>\n",
       "      <th>869328</th>\n",
       "      <td>12813</td>\n",
       "    </tr>\n",
       "  </tbody>\n",
       "</table>\n",
       "</div>"
      ],
      "text/plain": [
       "         predicted_category_id\n",
       "id                            \n",
       "1070974                  11574\n",
       "450413                   11878\n",
       "126857                   13299\n",
       "1577569                  13061\n",
       "869328                   12813"
      ]
     },
     "execution_count": 42,
     "metadata": {},
     "output_type": "execute_result"
    }
   ],
   "source": [
    "submission = pd.DataFrame(index = test_df['id'])\n",
    "submission['predicted_category_id'] = y_test_pred\n",
    "submission.head()"
   ]
  },
  {
   "cell_type": "code",
   "execution_count": 43,
   "id": "e0d98004",
   "metadata": {},
   "outputs": [],
   "source": [
    "submission.to_parquet('result.parquet', engine = 'pyarrow')"
   ]
  }
 ],
 "metadata": {
  "kernelspec": {
   "display_name": "Python 3 (ipykernel)",
   "language": "python",
   "name": "python3"
  },
  "language_info": {
   "codemirror_mode": {
    "name": "ipython",
    "version": 3
   },
   "file_extension": ".py",
   "mimetype": "text/x-python",
   "name": "python",
   "nbconvert_exporter": "python",
   "pygments_lexer": "ipython3",
   "version": "3.8.9"
  }
 },
 "nbformat": 4,
 "nbformat_minor": 5
}
